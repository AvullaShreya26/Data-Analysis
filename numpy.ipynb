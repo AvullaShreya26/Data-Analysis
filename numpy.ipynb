{
 "cells": [
  {
   "cell_type": "markdown",
   "id": "e917f0b9",
   "metadata": {},
   "source": [
    "# NumPy – Numerical Python\n",
    "## 1. Why Learn NumPy?\n",
    "\n",
    "#### What is it?\n",
    "\n",
    "NumPy is a powerful Python library for numerical computations. It provides fast and memory-efficient multi-dimensional arrays.\n",
    "\n",
    "#### Why we need it?\n",
    "\n",
    "1.Pure Python lists are slow for large datasets.\n",
    "\n",
    "2.NumPy arrays are optimized for speed and vectorized operations.\n",
    "\n",
    "3.Most Data Science & Machine Learning libraries (like Pandas, Scikit-Learn, TensorFlow) are built on top of NumPy.\n",
    "\n",
    "#### Where is it used?\n",
    "\n",
    "1.Data Analysis\n",
    "\n",
    "2.Machine Learning & Deep Learning\n",
    "\n",
    "3.Image Processing (OpenCV, PIL use NumPy arrays)\n",
    "\n",
    "5.Scientific Computing & Simulations"
   ]
  },
  {
   "cell_type": "markdown",
   "id": "6feb34af",
   "metadata": {},
   "source": []
  },
  {
   "cell_type": "code",
   "execution_count": 1,
   "id": "d886da99",
   "metadata": {},
   "outputs": [],
   "source": [
    "import numpy as np"
   ]
  },
  {
   "cell_type": "code",
   "execution_count": 2,
   "id": "fff2b380",
   "metadata": {},
   "outputs": [
    {
     "name": "stdout",
     "output_type": "stream",
     "text": [
      "c:\\Users\\Admin\\Desktop\\Tekwork\\venv\\python.exe\n"
     ]
    }
   ],
   "source": [
    "import sys\n",
    "print(sys.executable)\n"
   ]
  },
  {
   "cell_type": "code",
   "execution_count": 2,
   "id": "77db1ade",
   "metadata": {},
   "outputs": [
    {
     "name": "stdout",
     "output_type": "stream",
     "text": [
      "Python list sum time: 0.01580214500427246\n",
      "NumPy array sum time: 0.011869668960571289\n"
     ]
    }
   ],
   "source": [
    "## 2. Importing NumPy\n",
    "import numpy as np\n",
    "\n",
    "## 3. Arrays vs Python Lists\n",
    "import numpy as np\n",
    "import time\n",
    "\n",
    "# Python list\n",
    "py_list = [i for i in range(1000000)]\n",
    "\n",
    "# NumPy array\n",
    "np_array = np.arange(1000000)\n",
    "\n",
    "# Time comparison\n",
    "start = time.time()\n",
    "sum(py_list)\n",
    "print(\"Python list sum time:\", time.time() - start)\n",
    "\n",
    "start = time.time()\n",
    "np.sum(np_array)\n",
    "print(\"NumPy array sum time:\", time.time() - start)\n",
    "\n",
    "\n"
   ]
  },
  {
   "cell_type": "markdown",
   "id": "68bf998b",
   "metadata": {},
   "source": []
  },
  {
   "cell_type": "markdown",
   "id": "8ba378b2",
   "metadata": {},
   "source": [
    "## 4. Creating Arrays\n",
    "1.np.arange(start, stop, step)\n",
    "\n",
    "Purpose: Creates an array of numbers starting from start up to but not including stop, incremented by step.\n",
    "\n",
    "Your code: np.arange(0, 10, 2)\n",
    "\n",
    "Start = 0\n",
    "\n",
    "Stop = 10 (exclusive)\n",
    "\n",
    "Step = 2\n",
    "\n",
    "2.np.linspace(start, stop, num)\n",
    "\n",
    "Purpose: Creates an array of num equally spaced numbers between start and stop (inclusive).\n",
    "\n",
    "Your code: np.linspace(0, 1, 5)\n",
    "\n",
    "Start = 0\n",
    "\n",
    "Stop = 1 (inclusive)\n",
    "\n",
    "5 numbers evenly spaced"
   ]
  },
  {
   "cell_type": "code",
   "execution_count": 3,
   "id": "3e02b131",
   "metadata": {},
   "outputs": [
    {
     "name": "stdout",
     "output_type": "stream",
     "text": [
      "Array: [1 2 3 4 5]\n",
      "Zeros: [[0. 0. 0.]\n",
      " [0. 0. 0.]]\n",
      "Ones: [[1. 1. 1.]\n",
      " [1. 1. 1.]]\n",
      "Arange: [0 2 4 6 8]\n",
      "Linspace: [0.   0.25 0.5  0.75 1.  ]\n"
     ]
    }
   ],
   "source": [
    "# From list \n",
    "arr = np.array([1, 2, 3, 4, 5])\n",
    "print(\"Array:\", arr)\n",
    "\n",
    "# Zeros and Ones\n",
    "print(\"Zeros:\", np.zeros((2,3)))\n",
    "print(\"Ones:\", np.ones((2,3)))\n",
    "\n",
    "# Range and Linspace\n",
    "print(\"Arange:\", np.arange(0, 10, 2))\n",
    "print(\"Linspace:\", np.linspace(0, 1, 5))"
   ]
  },
  {
   "cell_type": "code",
   "execution_count": 4,
   "id": "af030b3f",
   "metadata": {},
   "outputs": [
    {
     "name": "stdout",
     "output_type": "stream",
     "text": [
      "Array: [10 20 30 40]\n",
      "Zeros: [[0. 0. 0.]\n",
      " [0. 0. 0.]]\n",
      "Ones: [[1. 1. 1.]\n",
      " [1. 1. 1.]]\n",
      "Arange: [10 15 20 25 30 35 40 45 50 55 60 65 70 75 80 85 90 95]\n",
      "Linspace: [10.         12.22222222 14.44444444 16.66666667 18.88888889 21.11111111\n",
      " 23.33333333 25.55555556 27.77777778 30.        ]\n"
     ]
    }
   ],
   "source": [
    "# From list \n",
    "arr = np.array([10,20,30,40])\n",
    "print(\"Array:\", arr)\n",
    "\n",
    "# Zeros and Ones\n",
    "print(\"Zeros:\", np.zeros((2,3)))\n",
    "print(\"Ones:\", np.ones((2,3)))\n",
    "\n",
    "# Range and Linspace\n",
    "print(\"Arange:\", np.arange(10,100,5))\n",
    "print(\"Linspace:\", np.linspace(10,30,10))"
   ]
  },
  {
   "cell_type": "code",
   "execution_count": 5,
   "id": "df90d5ae",
   "metadata": {},
   "outputs": [
    {
     "name": "stdout",
     "output_type": "stream",
     "text": [
      "Array shape: (2, 3)\n",
      "Array dtype: int64\n",
      "Array size: 6\n",
      "Array ndim: 2\n"
     ]
    }
   ],
   "source": [
    "## 5. Array Properties\n",
    "\n",
    "arr = np.array([[1,2,3],[4,5,6]])\n",
    "print(\"Array shape:\", arr.shape)\n",
    "print(\"Array dtype:\", arr.dtype)\n",
    "print(\"Array size:\", arr.size)\n",
    "print(\"Array ndim:\", arr.ndim)"
   ]
  },
  {
   "cell_type": "code",
   "execution_count": 6,
   "id": "802bc3da",
   "metadata": {},
   "outputs": [
    {
     "name": "stdout",
     "output_type": "stream",
     "text": [
      "Element at index 2: 30\n",
      "Elements from index 1 to 3: [20 30 40]\n",
      "Elements at indices 0, 2, 4: [10 30 50]\n",
      "Every second element: [10 30 50]\n",
      "Reversed array: [50 40 30 20 10]\n"
     ]
    }
   ],
   "source": [
    "## 6. Indexing and Slicing\n",
    "arr = np.array([10,20,30,40,50])\n",
    "print(\"Element at index 2:\", arr[2])\n",
    "print(\"Elements from index 1 to 3:\", arr[1:4])\n",
    "print(\"Elements at indices 0, 2, 4:\", arr[[0,2,4]])\n",
    "print(\"Every second element:\", arr[::2])\n",
    "print(\"Reversed array:\", arr[::-1])"
   ]
  },
  {
   "cell_type": "code",
   "execution_count": 7,
   "id": "1a4d1437",
   "metadata": {},
   "outputs": [
    {
     "name": "stdout",
     "output_type": "stream",
     "text": [
      "Matrix:\n",
      " [[1 2 3]\n",
      " [4 5 6]\n",
      " [7 8 9]]\n",
      "Matrix shape: (3, 3)\n",
      "Matrix dtype: int64\n",
      "Matrix size: 9\n",
      "Matrix ndim: 2\n",
      "2\n",
      "[4 5 6]\n",
      "[3 6 9]\n",
      "Transpose:\n",
      " [[1 4 7]\n",
      " [2 5 8]\n",
      " [3 6 9]]\n",
      "Sum of all elements: 45\n",
      "Sum of each column: [12 15 18]\n",
      "Sum of each row: [ 6 15 24]\n",
      "Mean of all elements: 5.0\n",
      "Mean of each column: [4. 5. 6.]\n",
      "Mean of each row: [2. 5. 8.]\n",
      "Element-wise multiplication:\n",
      " [[ 2  4  6]\n",
      " [ 8 10 12]\n",
      " [14 16 18]]\n",
      "Matrix multiplication:\n",
      " [[ 30  36  42]\n",
      " [ 66  81  96]\n",
      " [102 126 150]]\n"
     ]
    }
   ],
   "source": [
    "matrix = np.array([[1,2,3],[4,5,6],[7,8,9]])\n",
    "print(\"Matrix:\\n\", matrix)\n",
    "print(\"Matrix shape:\", matrix.shape)\n",
    "print(\"Matrix dtype:\", matrix.dtype)\n",
    "print(\"Matrix size:\", matrix.size)\n",
    "print(\"Matrix ndim:\", matrix.ndim)\n",
    "print(matrix[0,1]) # element at row 0, col 1\n",
    "print(matrix[1,:]) # entire row 1\n",
    "print(matrix[:,2]) # entire col 2\n",
    "# Matrix operations\n",
    "print(\"Transpose:\\n\", matrix.T)\n",
    "print(\"Sum of all elements:\", np.sum(matrix))\n",
    "print(\"Sum of each column:\", np.sum(matrix, axis=0))\n",
    "print(\"Sum of each row:\", np.sum(matrix, axis=1))\n",
    "print(\"Mean of all elements:\", np.mean(matrix))\n",
    "print(\"Mean of each column:\", np.mean(matrix, axis=0))\n",
    "print(\"Mean of each row:\", np.mean(matrix, axis=1))\n",
    "print(\"Element-wise multiplication:\\n\", matrix * 2)\n",
    "print(\"Matrix multiplication:\\n\", np.dot(matrix, matrix))"
   ]
  },
  {
   "cell_type": "code",
   "execution_count": 8,
   "id": "aa75328f",
   "metadata": {},
   "outputs": [
    {
     "name": "stdout",
     "output_type": "stream",
     "text": [
      "a + b: [5 7 9]\n",
      "a * b: [ 4 10 18]\n",
      "a + 10: [11 12 13]\n",
      "a * 2: [2 4 6]\n"
     ]
    }
   ],
   "source": [
    "## 7. Operations and Broadcasting\n",
    "a = np.array([1,2,3]) \n",
    "b = np.array([4,5,6])\n",
    "print(\"a + b:\", a + b)            # Element-wise addition\n",
    "print(\"a * b:\", a * b)            # Element-wise multiplication\n",
    "print(\"a + 10:\", a + 10)          # Broadcasting\n",
    "print(\"a * 2:\", a * 2)            # Broadcasting"
   ]
  },
  {
   "cell_type": "code",
   "execution_count": 9,
   "id": "a8466881",
   "metadata": {},
   "outputs": [
    {
     "name": "stdout",
     "output_type": "stream",
     "text": [
      "Sum: 15\n",
      "Mean: 3.0\n",
      "Max: 5\n",
      "Min: 1\n",
      "Standard Deviation: 1.4142135623730951\n",
      "Variance: 2.0\n",
      "Square Root: [1.         1.41421356 1.73205081 2.         2.23606798]\n",
      "Exponential: [  2.71828183   7.3890561   20.08553692  54.59815003 148.4131591 ]\n",
      "Logarithm: [0.         0.69314718 1.09861229 1.38629436 1.60943791]\n"
     ]
    }
   ],
   "source": [
    "## 8. Mathematical Functions\n",
    "arr = np.array([1,2,3,4,5])\n",
    "print(\"Sum:\", np.sum(arr))\n",
    "print(\"Mean:\", np.mean(arr))\n",
    "print(\"Max:\", np.max(arr))\n",
    "print(\"Min:\", np.min(arr))\n",
    "print(\"Standard Deviation:\", np.std(arr))\n",
    "print(\"Variance:\", np.var(arr))\n",
    "print(\"Square Root:\", np.sqrt(arr))\n",
    "print(\"Exponential:\", np.exp(arr))\n",
    "print(\"Logarithm:\", np.log(arr))"
   ]
  },
  {
   "cell_type": "code",
   "execution_count": 10,
   "id": "167ed0f1",
   "metadata": {},
   "outputs": [
    {
     "name": "stdout",
     "output_type": "stream",
     "text": [
      "Original array: [ 1  2  3  4  5  6  7  8  9 10 11 12]\n",
      "Reshaped array (3x4):\n",
      " [[ 1  2  3  4]\n",
      " [ 5  6  7  8]\n",
      " [ 9 10 11 12]]\n",
      "Flattened array: [ 1  2  3  4  5  6  7  8  9 10 11 12]\n"
     ]
    }
   ],
   "source": [
    "## 9. Reshaping Arrays\n",
    "arr = np.arange(1, 13)\n",
    "reshaped = arr.reshape((3,4))\n",
    "print(\"Original array:\", arr)\n",
    "print(\"Reshaped array (3x4):\\n\", reshaped)\n",
    "flattened = reshaped.flatten()\n",
    "print(\"Flattened array:\", flattened)"
   ]
  },
  {
   "cell_type": "code",
   "execution_count": 15,
   "id": "20c09ff2",
   "metadata": {},
   "outputs": [
    {
     "name": "stdout",
     "output_type": "stream",
     "text": [
      "array : [[1 2 3]\n",
      " [4 5 6]\n",
      " [7 8 9]]\n",
      "second row [4 5 6]\n"
     ]
    }
   ],
   "source": [
    " #array of 3x3 matrix  from values 1 to 9 \n",
    "arr=np.arange(1,10)\n",
    "reshaped=arr.reshape(3,3)\n",
    "print(\"array :\",reshaped)\n",
    "print( \"second row\" ,reshaped[1,:])\n",
    "\n"
   ]
  },
  {
   "cell_type": "code",
   "execution_count": null,
   "id": "eaf4743a",
   "metadata": {},
   "outputs": [
    {
     "name": "stdout",
     "output_type": "stream",
     "text": [
      "Mean: 20.4\n",
      "Median: 20.0\n",
      "std: 6.529931086925803\n"
     ]
    }
   ],
   "source": [
    "\n",
    "#3.Find the mean, median, and standard deviation of [12, 15, 20, 25, 30].\n",
    "\n",
    "\n",
    "arr=np.array([12,15,20,25,30])\n",
    "print(\"Mean:\",np.mean(arr))\n",
    "print(\"Median:\",np.median(arr))\n",
    "print(\"std:\",np.std(arr))"
   ]
  },
  {
   "cell_type": "code",
   "execution_count": 18,
   "id": "1ad54985",
   "metadata": {},
   "outputs": [
    {
     "name": "stdout",
     "output_type": "stream",
     "text": [
      "Random 5x5 Matrix:\n",
      " [[0.49247647 0.94007562 0.40165787 0.84822157 0.62878464]\n",
      " [0.69685207 0.48106145 0.79928736 0.59334049 0.27828826]\n",
      " [0.06469594 0.56533537 0.6732833  0.48331906 0.85023517]\n",
      " [0.56387178 0.71235364 0.36261318 0.64216037 0.25200081]\n",
      " [0.12375208 0.24833111 0.80324332 0.10489735 0.31157739]]\n",
      "\n",
      "Maximum value : 0.9400756236771823\n",
      "Minimum value : 0.0646959420334059\n"
     ]
    }
   ],
   "source": [
    "#4.Generate a random 5×5 matrix and find its maximum and minimum values.\n",
    " \n",
    "#(Hint: Use np.random.rand for random numbers)\n",
    "\n",
    "matrix = np.random.rand(5, 5)\n",
    "print(\"Random 5x5 Matrix:\\n\", matrix)\n",
    "max_value = np.max(matrix)\n",
    "print(\"\\nMaximum value :\", max_value)\n",
    "min_value = np.min(matrix)\n",
    "print(\"Minimum value :\", min_value)\n",
    "\n",
    "\n"
   ]
  }
 ],
 "metadata": {
  "kernelspec": {
   "display_name": "base",
   "language": "python",
   "name": "python3"
  },
  "language_info": {
   "codemirror_mode": {
    "name": "ipython",
    "version": 3
   },
   "file_extension": ".py",
   "mimetype": "text/x-python",
   "name": "python",
   "nbconvert_exporter": "python",
   "pygments_lexer": "ipython3",
   "version": "3.13.5"
  }
 },
 "nbformat": 4,
 "nbformat_minor": 5
}
